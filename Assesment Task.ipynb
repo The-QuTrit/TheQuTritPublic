{
 "cells": [
  {
   "cell_type": "code",
   "execution_count": 1,
   "metadata": {},
   "outputs": [
    {
     "name": "stderr",
     "output_type": "stream",
     "text": [
      "Duplicate key in file '/Users/minhpham/.matplotlib/matplotlibrc' line #2.\n",
      "Duplicate key in file '/Users/minhpham/.matplotlib/matplotlibrc' line #3.\n"
     ]
    }
   ],
   "source": [
    "import numpy as np\n",
    "import sympy as sp\n",
    "\n",
    "import matplotlib\n",
    "matplotlib.use('Agg')\n",
    "import matplotlib.pyplot as plt \n",
    "\n",
    "from sympy import Matrix, init_printing\n",
    "\n",
    "import qiskit\n",
    "from qiskit import *\n",
    "\n",
    "# Representing Data\n",
    "from qiskit.providers.aer import QasmSimulator, StatevectorSimulator, UnitarySimulator\n",
    "from qiskit.tools.visualization import plot_histogram, plot_state_city, plot_bloch_multivector\n",
    "\n",
    "# Monitor Job on Real Machine\n",
    "from qiskit.tools.monitor import job_monitor\n",
    "\n",
    "from functools import reduce # perform sucessive tensor product\n",
    "\n",
    "# Calculating cost\n",
    "from sklearn.metrics import mean_squared_error\n",
    "\n",
    "# Generating random unitary matrix\n",
    "from scipy.stats import unitary_group\n",
    "\n",
    "# Measure run time\n",
    "import time\n",
    "\n",
    "# Almost Equal\n",
    "from numpy.testing import assert_almost_equal as aae"
   ]
  },
  {
   "cell_type": "code",
   "execution_count": null,
   "metadata": {},
   "outputs": [],
   "source": []
  }
 ],
 "metadata": {
  "kernelspec": {
   "display_name": "Python 3",
   "language": "python",
   "name": "python3"
  },
  "language_info": {
   "codemirror_mode": {
    "name": "ipython",
    "version": 3
   },
   "file_extension": ".py",
   "mimetype": "text/x-python",
   "name": "python",
   "nbconvert_exporter": "python",
   "pygments_lexer": "ipython3",
   "version": "3.7.4"
  }
 },
 "nbformat": 4,
 "nbformat_minor": 2
}
